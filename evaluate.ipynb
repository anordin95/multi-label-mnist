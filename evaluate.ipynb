{
 "cells": [
  {
   "cell_type": "code",
   "execution_count": null,
   "id": "3a9bcc9e-7842-4c76-b55b-c91b662ec6c7",
   "metadata": {},
   "outputs": [],
   "source": [
    "import torch\n",
    "import numpy as np\n",
    "import matplotlib.pyplot as plt\n",
    "import matplotlib\n",
    "import seaborn as sns\n",
    "\n",
    "from model import ConvStackModel\n",
    "from dataset import MNISTDataset\n",
    "\n",
    "# sci_mode=True is the default which will print values such as 9.8e-01 instead of 0.98.\n",
    "torch.set_printoptions(precision=3, sci_mode=False)\n",
    "# manually specify how floats should be printed. Notably, this override uses more spacing\n",
    "# which I feel makes array easier to read.\n",
    "np.set_printoptions(formatter={'float': lambda val: f\" {val:.3f} \"}, linewidth=100)\n",
    "\n",
    "%load_ext autoreload\n",
    "%autoreload 2"
   ]
  },
  {
   "cell_type": "code",
   "execution_count": null,
   "id": "5bf24457-3103-471c-8410-29fd2c7b634b",
   "metadata": {},
   "outputs": [],
   "source": [
    "model_weights_filename = \"model_weights.pt\"\n",
    "model_weights = torch.load(\"model_weights.pt\", weights_only=True)\n",
    "\n",
    "model = ConvStackModel()\n",
    "model.load_state_dict(model_weights)\n",
    "\n",
    "mnist_dataset_test = MNISTDataset(split=\"test\")\n",
    "# Load the whole dataset into memory at once!\n",
    "mnist_test_dataloader = torch.utils.data.DataLoader(mnist_dataset_test, batch_size=len(mnist_dataset_test), shuffle=False) "
   ]
  },
  {
   "cell_type": "markdown",
   "id": "30aa45ec-8d5c-4655-94a3-2c4a1aa1b8df",
   "metadata": {},
   "source": [
    "#### Test-set accuracy"
   ]
  },
  {
   "cell_type": "code",
   "execution_count": null,
   "id": "1fafda69-396f-4a55-94ca-592fda0d26af",
   "metadata": {},
   "outputs": [],
   "source": [
    "mnist_test_dataloader_iter = iter(mnist_test_dataloader)\n",
    "test_set_images, test_set_labels = next(mnist_test_dataloader_iter)\n",
    "\n",
    "test_set_predictions = model(test_set_images)\n",
    "max_predicted_probabilities, predicted_indices = test_set_predictions.max(dim=1)\n",
    "\n",
    "# How many times was the class predicted with highest probability the actual-class for \n",
    "# the given input-image.\n",
    "num_correct_predictions = (predicted_indices == test_set_labels).sum()\n",
    "\n",
    "print(f\"Correctly predicted the digit: {100 * num_correct_predictions / len(mnist_dataset_test):.2f}% of the time.\")"
   ]
  },
  {
   "cell_type": "markdown",
   "id": "2ed05e70-aeba-4011-a508-9e7e9571c795",
   "metadata": {},
   "source": [
    "#### Test-set confusion matrix"
   ]
  },
  {
   "cell_type": "code",
   "execution_count": null,
   "id": "797084e2-ceef-41f9-ac66-7912f6912871",
   "metadata": {},
   "outputs": [],
   "source": [
    "# True-classes are on the rows (i.e. y-axis) and Predicted-classes are on the columns (i.e. x-axis).\n",
    "confusion_matrix = torch.zeros(size=(10, 10), dtype=torch.int)\n",
    "# I want a 2-D array where array[i][j] = Number of times the true-class was i and the model predicted class j.\n",
    "for dataset_idx in range(0, len(mnist_dataset_test)):\n",
    "    \n",
    "    actual_class = test_set_labels[dataset_idx].item()\n",
    "    predicted_class = predicted_indices[dataset_idx].item()\n",
    "    \n",
    "    confusion_matrix[actual_class][predicted_class] += 1\n",
    "\n",
    "ax = sns.heatmap(confusion_matrix, annot=True, fmt=\".0f\", linewidth=0.5, cmap='Blues', norm=matplotlib.colors.LogNorm())\n",
    "ax.set_ylabel(\"True class\")\n",
    "_ = ax.set_xlabel(\"Predicted class\")"
   ]
  },
  {
   "cell_type": "code",
   "execution_count": null,
   "id": "15fab0ac-d929-4526-9334-b9c0343ad035",
   "metadata": {},
   "outputs": [],
   "source": []
  }
 ],
 "metadata": {
  "kernelspec": {
   "display_name": "Python 3 (ipykernel)",
   "language": "python",
   "name": "python3"
  },
  "language_info": {
   "codemirror_mode": {
    "name": "ipython",
    "version": 3
   },
   "file_extension": ".py",
   "mimetype": "text/x-python",
   "name": "python",
   "nbconvert_exporter": "python",
   "pygments_lexer": "ipython3",
   "version": "3.12.3"
  }
 },
 "nbformat": 4,
 "nbformat_minor": 5
}
