{
 "cells": [
  {
   "cell_type": "markdown",
   "metadata": {},
   "source": [
    "##### This notebook visualizes random parts of the training dataset."
   ]
  },
  {
   "cell_type": "code",
   "execution_count": null,
   "metadata": {},
   "outputs": [],
   "source": [
    "import random\n",
    "\n",
    "import matplotlib.pyplot as plt\n",
    "\n",
    "from dataset import MNISTDataset"
   ]
  },
  {
   "cell_type": "code",
   "execution_count": null,
   "metadata": {},
   "outputs": [],
   "source": [
    "mnist_dataset_train = MNISTDataset(split=\"train\")\n",
    "\n",
    "fig, axeses = plt.subplots(nrows=4, ncols=5, figsize=(6,6))\n",
    "\n",
    "for ax in axeses.flatten():\n",
    "    random_dataset_idx = random.randint(0, len(mnist_dataset_train) - 1)\n",
    "    image, label = mnist_dataset_train[random_dataset_idx]\n",
    "    ax.imshow(image.squeeze(), cmap='Greys')\n",
    "    ax.set_title(f\"Label: {label}. Dataset idx: {random_dataset_idx:,}.\", fontsize=7)\n",
    "\n",
    "    ax.axes.get_xaxis().set_visible(False)\n",
    "    ax.axes.get_yaxis().set_visible(False)\n",
    "\n",
    "fig.tight_layout()"
   ]
  },
  {
   "cell_type": "code",
   "execution_count": null,
   "metadata": {},
   "outputs": [],
   "source": []
  }
 ],
 "metadata": {
  "kernelspec": {
   "display_name": "Python 3 (ipykernel)",
   "language": "python",
   "name": "python3"
  },
  "language_info": {
   "codemirror_mode": {
    "name": "ipython",
    "version": 3
   },
   "file_extension": ".py",
   "mimetype": "text/x-python",
   "name": "python",
   "nbconvert_exporter": "python",
   "pygments_lexer": "ipython3",
   "version": "3.12.3"
  }
 },
 "nbformat": 4,
 "nbformat_minor": 4
}
